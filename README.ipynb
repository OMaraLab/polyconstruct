{
 "cells": [
  {
   "attachments": {},
   "cell_type": "markdown",
   "metadata": {},
   "source": [
    "# polytop\n",
    "Python library for constructing polymer toplogies"
   ]
  },
  {
   "attachments": {},
   "cell_type": "markdown",
   "metadata": {},
   "source": [
    "### import the library and confirm version"
   ]
  },
  {
   "cell_type": "code",
   "execution_count": 1,
   "metadata": {},
   "outputs": [
    {
     "data": {
      "text/plain": [
       "0.1"
      ]
     },
     "execution_count": 1,
     "metadata": {},
     "output_type": "execute_result"
    }
   ],
   "source": [
    "from polytop import polytopVer\n",
    "polytopVer()"
   ]
  },
  {
   "cell_type": "code",
   "execution_count": 4,
   "metadata": {},
   "outputs": [],
   "source": [
    "# Load sample ITPs\n",
    "from polytop import Molecule \n",
    "GLU = Molecule.fromITP('test/samples/glutamine.itp')\n",
    "ARG = Molecule.fromITP('test/samples/arginine.itp')"
   ]
  },
  {
   "cell_type": "code",
   "execution_count": 5,
   "metadata": {},
   "outputs": [
    {
     "data": {
      "text/plain": [
       "<polytop.molecule.Molecule at 0x7f154c0fecb0>"
      ]
     },
     "execution_count": 5,
     "metadata": {},
     "output_type": "execute_result"
    }
   ],
   "source": [
    "# render display presentation\n",
    "GLU"
   ]
  },
  {
   "cell_type": "code",
   "execution_count": 6,
   "metadata": {},
   "outputs": [
    {
     "data": {
      "text/plain": [
       "<polytop.molecule.Molecule at 0x7f154c0ff4c0>"
      ]
     },
     "execution_count": 6,
     "metadata": {},
     "output_type": "execute_result"
    }
   ],
   "source": [
    "#render display presentation\n",
    "ARG"
   ]
  },
  {
   "cell_type": "code",
   "execution_count": 8,
   "metadata": {},
   "outputs": [
    {
     "ename": "NameError",
     "evalue": "name 'Monomer' is not defined",
     "output_type": "error",
     "traceback": [
      "\u001b[0;31m---------------------------------------------------------------------------\u001b[0m",
      "\u001b[0;31mNameError\u001b[0m                                 Traceback (most recent call last)",
      "Cell \u001b[0;32mIn[8], line 2\u001b[0m\n\u001b[1;32m      1\u001b[0m \u001b[39m#convert into mononmers by specifying RHS and LHS excision points\u001b[39;00m\n\u001b[0;32m----> 2\u001b[0m GLU_monomer \u001b[39m=\u001b[39m Monomer(molecule\u001b[39m=\u001b[39mGLU,LHS\u001b[39m=\u001b[39m\u001b[39m2\u001b[39m,RHS\u001b[39m=\u001b[39m\u001b[39m20\u001b[39m)\n\u001b[1;32m      3\u001b[0m ARG_monomer \u001b[39m=\u001b[39m Monomer(molecule\u001b[39m=\u001b[39mARG,LHS\u001b[39m=\u001b[39m\u001b[39m91\u001b[39m,RHS\u001b[39m=\u001b[39m\u001b[39m1\u001b[39m)\n",
      "\u001b[0;31mNameError\u001b[0m: name 'Monomer' is not defined"
     ]
    }
   ],
   "source": [
    "#convert into mononmers by specifying RHS and LHS excision points\n",
    "GLU_monomer = Monomer(molecule=GLU,LHS=2,RHS=20)\n",
    "ARG_monomer = Monomer(molecule=ARG,LHS=91,RHS=1)"
   ]
  },
  {
   "cell_type": "code",
   "execution_count": 7,
   "metadata": {},
   "outputs": [
    {
     "ename": "NameError",
     "evalue": "name 'Polymer' is not defined",
     "output_type": "error",
     "traceback": [
      "\u001b[0;31m---------------------------------------------------------------------------\u001b[0m",
      "\u001b[0;31mNameError\u001b[0m                                 Traceback (most recent call last)",
      "Cell \u001b[0;32mIn[7], line 2\u001b[0m\n\u001b[1;32m      1\u001b[0m \u001b[39m# orchestrate polymerization\u001b[39;00m\n\u001b[0;32m----> 2\u001b[0m GAAAG \u001b[39m=\u001b[39m Polymer(distributePartialCharges\u001b[39m=\u001b[39mACROSSMONOMER)\u001b[39m+\u001b[39mGLU_monomer\u001b[39m+\u001b[39mARG_monomer\u001b[39m+\u001b[39mARG_monomer\u001b[39m+\u001b[39mARG_monomer\u001b[39m+\u001b[39mGLU_monomer \n\u001b[1;32m      3\u001b[0m GAAAG\u001b[39m.\u001b[39mtoITP(\u001b[39m\"\u001b[39m\u001b[39mtests/samples/GAAAG.itp\u001b[39m\u001b[39m\"\u001b[39m)\n\u001b[1;32m      4\u001b[0m GAAAG\n",
      "\u001b[0;31mNameError\u001b[0m: name 'Polymer' is not defined"
     ]
    }
   ],
   "source": [
    "# orchestrate polymerization\n",
    "GAAAG = Polymer(distributePartialCharges=ACROSSMONOMER)+GLU_monomer+ARG_monomer+ARG_monomer+ARG_monomer+GLU_monomer \n",
    "GAAAG.toITP(\"tests/samples/GAAAG.itp\")\n",
    "GAAAG"
   ]
  },
  {
   "cell_type": "code",
   "execution_count": null,
   "metadata": {},
   "outputs": [],
   "source": [
    "%%bash\n",
    "jupyter nbconvert README.ipynb --to markdown"
   ]
  }
 ],
 "metadata": {
  "kernelspec": {
   "display_name": "Python 3",
   "language": "python",
   "name": "python3"
  },
  "language_info": {
   "codemirror_mode": {
    "name": "ipython",
    "version": 3
   },
   "file_extension": ".py",
   "mimetype": "text/x-python",
   "name": "python",
   "nbconvert_exporter": "python",
   "pygments_lexer": "ipython3",
   "version": "3.10.6"
  },
  "orig_nbformat": 4,
  "vscode": {
   "interpreter": {
    "hash": "31f2aee4e71d21fbe5cf8b01ff0e069b9275f58929596ceb00d14d90e3e16cd6"
   }
  }
 },
 "nbformat": 4,
 "nbformat_minor": 2
}
