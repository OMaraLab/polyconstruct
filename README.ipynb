{
 "cells": [
  {
   "attachments": {},
   "cell_type": "markdown",
   "metadata": {},
   "source": [
    "# Polytop Library\n",
    "\n",
    "This Jupyter notebook will demonstrate how to use the Polytop library to load sample ITP files, create monomer instances, and display a 2D representation of molecules.\n",
    "\n",
    "## Importing the Library\n",
    "\n",
    "We will import the `polytop` library and confirm the version."
   ]
  },
  {
   "cell_type": "code",
   "execution_count": null,
   "metadata": {},
   "outputs": [],
   "source": [
    "# Load sample ITPs\n",
    "import polytop\n",
    "from polytop.topology import Topology\n",
    "from polytop.junction import Junction\n",
    "from polytop.monomer import Monomer \n",
    "from polytop import Polymer\n",
    "from polytop.visualize import Visualize\n",
    "from IPython.display import Image\n",
    "from IPython.core.display import HTML\n",
    "\n",
    "print(f\"Polytop Version {polytop.__version__}\")"
   ]
  },
  {
   "attachments": {},
   "cell_type": "markdown",
   "metadata": {},
   "source": [
    "## Load topology from an ITP file\n",
    "\n",
    "First, we will load the ITP files for some molecules to use as monomers.  We'll use some amino acids to make a polypeptide.  We'll start by importing `Arginine` using the `Topology.from_ITP()` function. This function will return a `Topology` object that contains all of the information from the ITP file.  Note for display purposes we'll add a double bond manually between the carbon and the second oxygen in the terminal carboxyl group."
   ]
  },
  {
   "cell_type": "code",
   "execution_count": null,
   "metadata": {},
   "outputs": [],
   "source": [
    "ARG = Topology.from_ITP('tests/data/arginine.itp')\n",
    "print(ARG.atoms)"
   ]
  },
  {
   "attachments": {},
   "cell_type": "markdown",
   "metadata": {},
   "source": [
    "We can visualize the topology as a 2D structure to make sure that this is the molecule we want to use."
   ]
  },
  {
   "cell_type": "code",
   "execution_count": null,
   "metadata": {},
   "outputs": [],
   "source": [
    "Visualize(ARG).draw2D('tests/output/arginine.png',(400,200))\n",
    "Image(filename='tests/output/arginine.png') "
   ]
  },
  {
   "attachments": {},
   "cell_type": "markdown",
   "metadata": {},
   "source": [
    "Now we need to select the terminal amine and the terminal carboxyl group as polymerization junction points in this topology so we can define this topology as a monomer.  First we redraw the topology with explicit hydrogens visible and atom IDs displayed."
   ]
  },
  {
   "cell_type": "code",
   "execution_count": null,
   "metadata": {},
   "outputs": [],
   "source": [
    "Visualize(ARG).draw2D('tests/output/arginine_unordered.png',(400,200),remove_explicit_H=False, show_atom_ID=True)\n",
    "Image(filename='tests/output/arginine_unordered.png') "
   ]
  },
  {
   "cell_type": "markdown",
   "metadata": {},
   "source": [
    "The first step is to reorder the atom indicies to minimize the name space required for this mononmer (this is not strictly necessary, but it will make the atom IDs easier to read).  We can do this with the `Topology.reorder()` function.  This function will return a new `Topology` object with the atoms reordered."
   ]
  },
  {
   "cell_type": "code",
   "execution_count": null,
   "metadata": {},
   "outputs": [],
   "source": [
    "ARG.auto_rename_atoms()\n",
    "Visualize(ARG).draw2D('tests/output/arginine_ordered.png',(400,200),remove_explicit_H=False, show_atom_ID=True)\n",
    "Image(filename='tests/output/arginine_ordered.png')"
   ]
  },
  {
   "cell_type": "markdown",
   "metadata": {},
   "source": [
    "Now we can select the atoms that will be on either side of the polymerization junction points, and give each junction a name.  And finally display the monomer highlighting the junctions."
   ]
  },
  {
   "cell_type": "code",
   "execution_count": null,
   "metadata": {},
   "outputs": [],
   "source": [
    "\n",
    "ARG_N = ARG.junction('N1','H9').named('N')\n",
    "ARG_C = ARG.junction('C5','O1').named('C')\n",
    "ARG_monomer = Monomer(ARG, [ARG_N, ARG_C])\n",
    "Visualize.monomer(ARG_monomer).draw2D('tests/output/ARG_monomer.png',(400,200),highlight_junctions=True)\n",
    "Image(filename='tests/output/ARG_monomer.png')"
   ]
  },
  {
   "cell_type": "code",
   "execution_count": null,
   "metadata": {},
   "outputs": [],
   "source": []
  },
  {
   "attachments": {},
   "cell_type": "markdown",
   "metadata": {},
   "source": [
    "## Loading a glutamine topology\n",
    "\n",
    "And we'll do the same with the second amino acid, glutamine"
   ]
  },
  {
   "cell_type": "code",
   "execution_count": null,
   "metadata": {},
   "outputs": [],
   "source": [
    "GLN = Topology.from_ITP('tests/data/glutamine.itp')\n",
    "Visualize(GLN).draw2D('tests/output/GLN.png',(400,200))\n",
    "Visualize(GLN).draw2D('tests/output/GLN_unordered.png',(400,200),remove_explicit_H=False, show_atom_ID=True)\n",
    "GLN.auto_rename_atoms() # not required, file already ordered\n",
    "Visualize(GLN).draw2D('tests/output/GLN_ordered.png',(400,200),remove_explicit_H=False, show_atom_ID=True)\n",
    "GLN_N = GLN.junction('N1','H6').named('N')\n",
    "GLN_C = GLN.junction('C4','O1').named('C')\n",
    "GLN_monomer = Monomer(GLN, [GLN_N, GLN_C])\n",
    "Visualize.monomer(GLN_monomer).draw2D('tests/output/GLN_monomer.png',(400,200),highlight_junctions=True)\n",
    "\n",
    "\n",
    "GLN_pipeline = ['tests/output/GLN.png','tests/output/GLN_unordered.png','tests/output/GLN_ordered.png','tests/output/GLN_monomer.png']\n",
    "\n",
    "html = '<h1>Glutamine pipeline</h1>'\n",
    "html += '<div style=\"display:flex\">'\n",
    "for image in GLN_pipeline:\n",
    "    html += f'<div style=\"display:inline-flex\"><figure><img src=\"{image}\" style=\"margin:0 10px\" width=\"300\"><figcaption>{image}</figcaption></figure></div>'\n",
    "html += '</div>'\n",
    "\n",
    "display(HTML(html))"
   ]
  },
  {
   "attachments": {},
   "cell_type": "markdown",
   "metadata": {},
   "source": [
    "# Construct a polymer from a set of monomers\n",
    "\n",
    " "
   ]
  },
  {
   "cell_type": "code",
   "execution_count": null,
   "metadata": {},
   "outputs": [],
   "source": [
    "dipeptide = Polymer(ARG_monomer)\n",
    "dipeptide.extend(GLN_monomer, from_junction_name = \"C\", to_junction_name = \"N\")\n",
    "Visualize.polymer(dipeptide).draw2D('tests/output/dipeptide.png',(400,200))\n"
   ]
  },
  {
   "cell_type": "markdown",
   "metadata": {},
   "source": [
    "# More complex polymers\n",
    "\n",
    "We'll model a simple form of glycogen (skipping the glycogenin protein nucleating the **C** chain in the center of the polymer), which is a complex polymer of glucose molecules.  https://chem.libretexts.org/Bookshelves/Biological_Chemistry/Supplemental_Modules_(Biological_Chemistry)/Carbohydrates/Polysaccharides/Glycogen\n",
    "\n",
    "The structure is characterized by chains 8-10 units long of glucose molecules linked by alpha-1,4-glycosidic bonds, with branches linked by alpha-1,6-glycosidic bonds.  There are three category of chains, **A**, **B**, and **C**, they are 8-10 monomers long, at the end of each chain is a glucose monomer with 3 branch points. There is one **C** chain at the center of the polymer.  For this simplification that **C** chain, will be branch to 2 **B** chains, and each **B** will branch to 4  **A** chains."
   ]
  },
  {
   "cell_type": "code",
   "execution_count": null,
   "metadata": {},
   "outputs": [],
   "source": []
  },
  {
   "cell_type": "markdown",
   "metadata": {},
   "source": [
    "# Load monomer\n",
    "\n",
    "Let's start with a simple molecule of glucose, and only one of the isomers (the cyclic form), but it would be possible to model others such as the open chain form as well, and to distribute randomly among multiple  given an experimentally derived distribution.  We'll create 2 different monomers, one with just the 1,4-glycosidic bond, and one with the the 1,4-glycosidic bond and a 1,6-glycosidic bond."
   ]
  },
  {
   "cell_type": "code",
   "execution_count": null,
   "metadata": {},
   "outputs": [],
   "source": [
    "GLU = Topology.from_ITP('tests/data/glucose.itp')\n",
    "Visualize(GLU).draw2D('tests/output/glucose.png',(400,200))\n",
    "Visualize(GLU).draw2D('tests/output/glucose_unordered.png',(400,200),remove_explicit_H=False, show_atom_ID=True)\n",
    "GLU.auto_rename_atoms()\n",
    "Visualize(GLU).draw2D('tests/output/glucose_ordered.png',(400,200),remove_explicit_H=False, show_atom_ID=True)\n",
    "print(GLU.atoms)\n",
    "GLU_1 = GLU.junction('C1','O3').named('1')\n",
    "GLU_4 = GLU.junction('C4','H3').named('4')\n",
    "GLU_6 = GLU.junction('C6','H11').named('6')\n",
    "\n",
    "GLU_monomer = Monomer(GLU, [GLU_1, GLU_4, GLU_6])\n",
    "Visualize.monomer(GLU_monomer).draw2D('tests/output/glucose_monomer.png',(400,200),highlight_junctions=True)\n",
    "\n",
    "\n",
    "GLU_pipeline = ['tests/output/glucose.png','tests/output/glucose_unordered.png','tests/output/glucose_ordered.png','tests/output/glucose_monomer.png']\n",
    "\n",
    "html = '<h1>Glucose pipeline</h1>'\n",
    "html += '<div style=\"display:flex\">'\n",
    "for image in GLU_pipeline:\n",
    "    html += f'<div style=\"display:inline-flex\"><figure><img src=\"{image}\" style=\"margin:0 10px\" width=\"300\"><figcaption>{image}</figcaption></figure></div>'\n",
    "html += '</div>'\n",
    "\n",
    "display(HTML(html))"
   ]
  },
  {
   "cell_type": "markdown",
   "metadata": {},
   "source": [
    "# Make polymer chains\n",
    "\n",
    "Glucose in glycogen "
   ]
  },
  {
   "cell_type": "code",
   "execution_count": null,
   "metadata": {},
   "outputs": [],
   "source": []
  }
 ],
 "metadata": {
  "kernelspec": {
   "display_name": "Python 3",
   "language": "python",
   "name": "python3"
  },
  "language_info": {
   "codemirror_mode": {
    "name": "ipython",
    "version": 3
   },
   "file_extension": ".py",
   "mimetype": "text/x-python",
   "name": "python",
   "nbconvert_exporter": "python",
   "pygments_lexer": "ipython3",
   "version": "3.10.14"
  },
  "orig_nbformat": 4,
  "vscode": {
   "interpreter": {
    "hash": "31f2aee4e71d21fbe5cf8b01ff0e069b9275f58929596ceb00d14d90e3e16cd6"
   }
  }
 },
 "nbformat": 4,
 "nbformat_minor": 2
}
